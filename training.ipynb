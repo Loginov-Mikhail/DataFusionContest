{
  "nbformat": 4,
  "nbformat_minor": 0,
  "metadata": {
    "colab": {
      "name": "training.ipynb",
      "provenance": [],
      "collapsed_sections": [],
      "authorship_tag": "ABX9TyNPMLPut1mjX8nQMX9+0xZZ"
    },
    "kernelspec": {
      "name": "python3",
      "display_name": "Python 3"
    }
  },
  "cells": [
    {
      "cell_type": "code",
      "metadata": {
        "id": "RmZSRrNz0zbT",
        "colab": {
          "base_uri": "https://localhost:8080/"
        },
        "outputId": "5dc96fe9-bf79-4005-a83c-9ebb2ed26a55"
      },
      "source": [
        "from google.colab import drive\n",
        "import os\n",
        "\n",
        "drive.mount('/content/gdrive')\n",
        "os.chdir('/content/gdrive/MyDrive/DataFusionContest/')"
      ],
      "execution_count": 1,
      "outputs": [
        {
          "output_type": "stream",
          "text": [
            "Drive already mounted at /content/gdrive; to attempt to forcibly remount, call drive.mount(\"/content/gdrive\", force_remount=True).\n"
          ],
          "name": "stdout"
        }
      ]
    },
    {
      "cell_type": "code",
      "metadata": {
        "id": "YVyycRGMC58T"
      },
      "source": [
        "import pandas as pd\n",
        "import numpy as np\n",
        "from tensorflow.keras.preprocessing.text import Tokenizer\n",
        "from tensorflow.keras.preprocessing.sequence import pad_sequences\n",
        "from sklearn.ensemble import RandomForestClassifier\n",
        "#from matplotlib import pyplot\n",
        "from sklearn.metrics import accuracy_score\n",
        "import io\n",
        "import json\n",
        "from tensorflow.keras.preprocessing.text import tokenizer_from_json\n",
        "import pickle"
      ],
      "execution_count": 2,
      "outputs": []
    },
    {
      "cell_type": "code",
      "metadata": {
        "id": "6rh1xN-KDDsj"
      },
      "source": [
        "df = pd.read_csv('clean.csv')"
      ],
      "execution_count": 3,
      "outputs": []
    },
    {
      "cell_type": "code",
      "metadata": {
        "colab": {
          "base_uri": "https://localhost:8080/"
        },
        "id": "JMUV8NEJZ7Jc",
        "outputId": "4003dd60-f25b-4b74-c2c6-080560203c67"
      },
      "source": [
        "# Получение списка уникальных значений категорий товара для кодирования методом\n",
        "# One Hot Encoding\n",
        "cols = list(df['category_id'].unique())\n",
        "cols.sort()\n",
        "print(cols)\n",
        "dummiesColumnsName = []\n",
        "for i in range(len(cols)):\n",
        "    dummiesColumnsName.append(str(cols[i]))\n",
        "print(dummiesColumnsName)"
      ],
      "execution_count": 4,
      "outputs": [
        {
          "output_type": "stream",
          "text": [
            "[0, 1, 2, 3, 4, 6, 7, 9, 11, 12, 13, 19, 20, 24, 26, 27, 29, 30, 31, 35, 36, 37, 38, 39, 40, 41, 42, 43, 45, 46, 49, 50, 51, 52, 53, 54, 55, 56, 57, 58, 60, 61, 62, 66, 67, 68, 69, 70, 71, 72, 73, 74, 75, 76, 77, 78, 79, 80, 81, 82, 83, 84, 85, 90, 92, 96, 97, 100, 101, 102, 103, 105, 106, 107, 108, 109, 111, 114, 115, 117, 118, 120, 121, 128, 130, 133, 138, 139, 140, 143, 145, 150, 163, 164, 167, 177, 203, 204]\n",
            "['0', '1', '2', '3', '4', '6', '7', '9', '11', '12', '13', '19', '20', '24', '26', '27', '29', '30', '31', '35', '36', '37', '38', '39', '40', '41', '42', '43', '45', '46', '49', '50', '51', '52', '53', '54', '55', '56', '57', '58', '60', '61', '62', '66', '67', '68', '69', '70', '71', '72', '73', '74', '75', '76', '77', '78', '79', '80', '81', '82', '83', '84', '85', '90', '92', '96', '97', '100', '101', '102', '103', '105', '106', '107', '108', '109', '111', '114', '115', '117', '118', '120', '121', '128', '130', '133', '138', '139', '140', '143', '145', '150', '163', '164', '167', '177', '203', '204']\n"
          ],
          "name": "stdout"
        }
      ]
    },
    {
      "cell_type": "code",
      "metadata": {
        "colab": {
          "base_uri": "https://localhost:8080/"
        },
        "id": "ps1RkcX4HYua",
        "outputId": "554b25fb-cc4b-44d0-a304-8bfb9913a4eb"
      },
      "source": [
        "# Создание датасета для обучения (первые 100 000 записей)\n",
        "df2 = df.head(100000)\n",
        "df2['item_name'] = df2['item_name'].str.lower()"
      ],
      "execution_count": 5,
      "outputs": [
        {
          "output_type": "stream",
          "text": [
            "/usr/local/lib/python3.6/dist-packages/ipykernel_launcher.py:3: SettingWithCopyWarning: \n",
            "A value is trying to be set on a copy of a slice from a DataFrame.\n",
            "Try using .loc[row_indexer,col_indexer] = value instead\n",
            "\n",
            "See the caveats in the documentation: https://pandas.pydata.org/pandas-docs/stable/user_guide/indexing.html#returning-a-view-versus-a-copy\n",
            "  This is separate from the ipykernel package so we can avoid doing imports until\n"
          ],
          "name": "stderr"
        }
      ]
    },
    {
      "cell_type": "code",
      "metadata": {
        "colab": {
          "base_uri": "https://localhost:8080/"
        },
        "id": "0ol7C6ddkdft",
        "outputId": "c7c8d59f-7efa-4f15-eb9e-3bbfaab1997f"
      },
      "source": [
        "# Использование токенайзера для преобразования названия товара (item_name)\n",
        "# Фильтры:\n",
        "to_exclude = '\".,:!?#$%&()*+-/<=>@[\\\\]^_`{|}~\\t\\n' # Исключаемые символы\n",
        "to_tokenize = '.,:!?\"' # Обрабатываемые символы\n",
        "\n",
        "# Обучение токенайзера\n",
        "num_words = 20000 # Максимальное количество слов в словаре\n",
        "max_review_len = 100 # Максимальное количество слов в названии товара\n",
        "tokenizer_goods = Tokenizer(num_words=num_words, filters=to_exclude, oov_token=1)\n",
        "tokenizer_goods.fit_on_texts(df2['item_name'])\n",
        "\n",
        "print('Обучение завершено')\n",
        "\n",
        "# Сохранение полученного словаря\n",
        "tokenizer_json = tokenizer_goods.to_json()\n",
        "with io.open('tokenizer_item_name.json', 'w', encoding='utf-8') as f:\n",
        "    f.write(json.dumps(tokenizer_json, ensure_ascii=False))\n",
        "\n",
        "print('Результат успешно сохранен')\n",
        "\n",
        "# Загрузка словаря токенайзера\n",
        "with open('tokenizer_item_name.json') as f:\n",
        "    data = json.load(f)\n",
        "    tokenizer_goods = tokenizer_from_json(data)\n",
        "\n",
        "print('Словарь токенайзер загружен')\n",
        "\n",
        "# Обработка по полученному словарю\n",
        "sequences_goods = tokenizer_goods.texts_to_sequences(df2['item_name'])\n",
        "max_position_len=10\n",
        "xTrain = pad_sequences(sequences_goods, maxlen=max_position_len)\n",
        "print(xTrain[0])"
      ],
      "execution_count": 6,
      "outputs": [
        {
          "output_type": "stream",
          "text": [
            "Обучение завершено\n",
            "Результат успешно сохранен\n",
            "Словарь токенайзер загружен\n",
            "[ 0  0  0  0  0  0 21 18  8  9]\n"
          ],
          "name": "stdout"
        }
      ]
    },
    {
      "cell_type": "code",
      "metadata": {
        "colab": {
          "base_uri": "https://localhost:8080/"
        },
        "id": "m0W-kRMJel43",
        "outputId": "04d248cf-72fa-4cc9-ad70-0ce3d1a5c6e4"
      },
      "source": [
        "yTrain = pd.DataFrame(np.zeros((len(df2), len(cols)), dtype=np.uint8), columns=dummiesColumnsName)\n",
        "for i in range(len(df2)):\n",
        "    j = df2.loc[i, 'category_id']\n",
        "    yTrain.loc[i, str(j)] = 1\n",
        "print(df2.loc[0, 'category_id'])\n",
        "print(yTrain.loc[0, '78'])"
      ],
      "execution_count": 7,
      "outputs": [
        {
          "output_type": "stream",
          "text": [
            "78\n",
            "1\n"
          ],
          "name": "stdout"
        }
      ]
    },
    {
      "cell_type": "code",
      "metadata": {
        "colab": {
          "base_uri": "https://localhost:8080/"
        },
        "id": "9j8u8fTRq9ZL",
        "outputId": "840bdb03-0e25-4be4-86b7-66f54a2282aa"
      },
      "source": [
        "# Обучение модели (Случайный Лес из 50 деревьев)\n",
        "model = RandomForestClassifier(n_estimators=50)\n",
        "model.fit(xTrain, yTrain)\n",
        "# Вывод значимости параметров\n",
        "importance = model.feature_importances_\n",
        "for i,v in enumerate(importance):\n",
        "\tprint('Feature: %0d, Score: %.5f' % (i,v))\n",
        "\n",
        "#print('1')\n",
        "#yhat = model.predict(x)\n",
        "#print(y)\n",
        "#print(yhat)"
      ],
      "execution_count": 12,
      "outputs": [
        {
          "output_type": "stream",
          "text": [
            "Feature: 0, Score: 0.00430\n",
            "Feature: 1, Score: 0.00748\n",
            "Feature: 2, Score: 0.01356\n",
            "Feature: 3, Score: 0.02514\n",
            "Feature: 4, Score: 0.04587\n",
            "Feature: 5, Score: 0.06899\n",
            "Feature: 6, Score: 0.11559\n",
            "Feature: 7, Score: 0.17460\n",
            "Feature: 8, Score: 0.21888\n",
            "Feature: 9, Score: 0.32561\n"
          ],
          "name": "stdout"
        }
      ]
    },
    {
      "cell_type": "code",
      "metadata": {
        "id": "g5FoIJUrrJEp"
      },
      "source": [
        "del df\n",
        "del df2\n",
        "del tokenizer_goods\n",
        "del sequences_goods"
      ],
      "execution_count": 14,
      "outputs": []
    },
    {
      "cell_type": "code",
      "metadata": {
        "id": "dB3oMV7LnU_t"
      },
      "source": [
        "print(model.estimators_)\n",
        "#print(treeObj.node_count)"
      ],
      "execution_count": null,
      "outputs": []
    },
    {
      "cell_type": "code",
      "metadata": {
        "id": "DmKGFEwDicjQ"
      },
      "source": [
        "# Сохранение модели\n",
        "pickle.dump(model, open('model_v1.sav', 'wb'))"
      ],
      "execution_count": 15,
      "outputs": []
    },
    {
      "cell_type": "code",
      "metadata": {
        "id": "sCQctQq9jGKW"
      },
      "source": [
        "# Загрузка модели\n",
        "model = pickle.load(open('model_v1.sav', 'rb'))"
      ],
      "execution_count": 16,
      "outputs": []
    },
    {
      "cell_type": "code",
      "metadata": {
        "colab": {
          "base_uri": "https://localhost:8080/"
        },
        "id": "T085rCv1ufEQ",
        "outputId": "795ed1df-bfb8-4614-c219-7733dd92d9a6"
      },
      "source": [
        "z_real = pd.DataFrame(pd.get_dummies(yTrain).idxmax(1), columns=['category_id'])\n",
        "print(z_real.head(10))\n",
        "y = model.predict(xTrain)\n",
        "yPred = pd.DataFrame(y, columns=dummiesColumnsName)\n",
        "z_pred = pd.DataFrame(pd.get_dummies(yPred).idxmax(1), columns=['category_id'])\n",
        "z_pred['category_id'] = z_pred['category_id'].astype('uint8')\n",
        "print(z_pred.head(10))"
      ],
      "execution_count": 19,
      "outputs": [
        {
          "output_type": "stream",
          "text": [
            "  category_id\n",
            "0          78\n",
            "1          71\n",
            "2          71\n",
            "3          70\n",
            "4          84\n",
            "5          84\n",
            "6          69\n",
            "7          69\n",
            "8          69\n",
            "9          68\n",
            "   category_id\n",
            "0           78\n",
            "1           71\n",
            "2           71\n",
            "3           70\n",
            "4           84\n",
            "5           84\n",
            "6           69\n",
            "7           69\n",
            "8           69\n",
            "9           68\n"
          ],
          "name": "stdout"
        }
      ]
    },
    {
      "cell_type": "code",
      "metadata": {
        "colab": {
          "base_uri": "https://localhost:8080/"
        },
        "id": "2se7QW9qvnni",
        "outputId": "a84417e0-7f9a-4117-fd18-1c9a6d4e11c9"
      },
      "source": [
        "z_real['category_id'] = z_real['category_id'].astype('uint8')\n",
        "print(accuracy_score(z_pred, z_real))"
      ],
      "execution_count": 21,
      "outputs": [
        {
          "output_type": "stream",
          "text": [
            "0.99394\n"
          ],
          "name": "stdout"
        }
      ]
    },
    {
      "cell_type": "markdown",
      "metadata": {
        "id": "N48_cqNFwqjL"
      },
      "source": [
        "При 100 деревьях было 0.99492"
      ]
    },
    {
      "cell_type": "markdown",
      "metadata": {
        "id": "FKX5KniDwcbh"
      },
      "source": [
        "Дальше вниз надо чистить"
      ]
    },
    {
      "cell_type": "markdown",
      "metadata": {
        "id": "mAiQmDuCmnD5"
      },
      "source": [
        "Проверка на тренировочных данных (последние 1000 строк \"очищенного\" датасета)"
      ]
    },
    {
      "cell_type": "code",
      "metadata": {
        "colab": {
          "base_uri": "https://localhost:8080/"
        },
        "id": "zY6a9Q7mrZ_p",
        "outputId": "4ce4b85a-ecff-45ae-a73c-c857c9589c21"
      },
      "source": [
        "#print(z.head(10))\n",
        "cols = list(z['category_id'].unique())\n",
        "cols.sort()\n",
        "print(cols)\n",
        "dummiesColumnsName = []\n",
        "for i in range(len(cols)):\n",
        "    dummiesColumnsName.append(str(cols[i]))\n",
        "print(dummiesColumnsName)\n",
        "\n",
        "y = pd.DataFrame(np.zeros((1000, len(cols)), dtype=np.uint8), columns=dummiesColumnsName)\n",
        "print(y.head(10))"
      ],
      "execution_count": 15,
      "outputs": [
        {
          "output_type": "stream",
          "text": [
            "[0, 1, 2, 3, 4, 6, 7, 9, 11, 12, 13, 19, 20, 24, 26, 27, 29, 30, 31, 35, 36, 37, 38, 39, 40, 41, 42, 43, 45, 49, 50, 51, 52, 53, 54, 55, 56, 57, 58, 60, 61, 62, 66, 67, 68, 69, 70, 71, 72, 73, 74, 75, 76, 77, 78, 79, 80, 81, 82, 83, 84, 85, 90, 92, 96, 97, 100, 101, 102, 103, 105, 106, 107, 108, 109, 111, 114, 115, 117, 118, 120, 128, 130, 133, 138, 139, 140, 143, 145, 150, 163, 164, 167, 177, 203, 204]\n",
            "['0', '1', '2', '3', '4', '6', '7', '9', '11', '12', '13', '19', '20', '24', '26', '27', '29', '30', '31', '35', '36', '37', '38', '39', '40', '41', '42', '43', '45', '49', '50', '51', '52', '53', '54', '55', '56', '57', '58', '60', '61', '62', '66', '67', '68', '69', '70', '71', '72', '73', '74', '75', '76', '77', '78', '79', '80', '81', '82', '83', '84', '85', '90', '92', '96', '97', '100', '101', '102', '103', '105', '106', '107', '108', '109', '111', '114', '115', '117', '118', '120', '128', '130', '133', '138', '139', '140', '143', '145', '150', '163', '164', '167', '177', '203', '204']\n",
            "   0  1  2  3  4  6  7  9  11  ...  143  145  150  163  164  167  177  203  204\n",
            "0  0  0  0  0  0  0  0  0   0  ...    0    0    0    0    0    0    0    0    0\n",
            "1  0  0  0  0  0  0  0  0   0  ...    0    0    0    0    0    0    0    0    0\n",
            "2  0  0  0  0  0  0  0  0   0  ...    0    0    0    0    0    0    0    0    0\n",
            "3  0  0  0  0  0  0  0  0   0  ...    0    0    0    0    0    0    0    0    0\n",
            "4  0  0  0  0  0  0  0  0   0  ...    0    0    0    0    0    0    0    0    0\n",
            "5  0  0  0  0  0  0  0  0   0  ...    0    0    0    0    0    0    0    0    0\n",
            "6  0  0  0  0  0  0  0  0   0  ...    0    0    0    0    0    0    0    0    0\n",
            "7  0  0  0  0  0  0  0  0   0  ...    0    0    0    0    0    0    0    0    0\n",
            "8  0  0  0  0  0  0  0  0   0  ...    0    0    0    0    0    0    0    0    0\n",
            "9  0  0  0  0  0  0  0  0   0  ...    0    0    0    0    0    0    0    0    0\n",
            "\n",
            "[10 rows x 96 columns]\n"
          ],
          "name": "stdout"
        }
      ]
    },
    {
      "cell_type": "code",
      "metadata": {
        "colab": {
          "base_uri": "https://localhost:8080/"
        },
        "id": "gchzet_ommhw",
        "outputId": "8bcd541f-7f0b-4eaa-ee68-3b5110897281"
      },
      "source": [
        "df3 = df.tail(1000).reset_index()\n",
        "df3['item_name'] = df3['item_name'].str.lower()\n",
        "z_real = df3['category_id']\n",
        "\n",
        "sequences_position = tokenizer_position.texts_to_sequences(df3['item_name'])\n",
        "max_position_len=10\n",
        "x = pad_sequences(sequences_position, maxlen=max_position_len)\n",
        "\n",
        "for i in range(len(df3)):\n",
        "    j = df3.loc[i, 'category_id']\n",
        "    y.loc[i, str(j)] = 1\n",
        "print(y.loc[0, '69'])\n",
        "print(y.head(10))\n",
        "print(z_real.head(10))"
      ],
      "execution_count": 16,
      "outputs": [
        {
          "output_type": "stream",
          "text": [
            "1\n",
            "   0  1  2  3  4  6  7  9  11  ...  143  145  150  163  164  167  177  203  204\n",
            "0  0  0  0  0  0  0  0  0   0  ...    0    0    0    0    0    0    0    0    0\n",
            "1  0  0  0  0  0  0  0  0   0  ...    0    0    0    0    0    0    0    0    0\n",
            "2  0  0  0  0  0  0  0  0   0  ...    0    0    0    0    0    0    0    0    0\n",
            "3  0  0  0  0  0  0  0  0   0  ...    0    0    0    0    0    0    0    0    0\n",
            "4  0  0  0  0  0  0  0  0   0  ...    0    0    0    0    0    0    0    0    0\n",
            "5  0  0  0  0  0  0  0  0   0  ...    0    0    0    0    0    0    0    0    0\n",
            "6  0  0  0  0  0  0  0  0   0  ...    0    0    0    0    0    0    0    0    0\n",
            "7  0  0  0  0  0  0  0  0   0  ...    0    0    0    0    0    0    0    0    0\n",
            "8  0  0  0  0  0  0  0  0   0  ...    0    0    0    0    0    0    0    0    0\n",
            "9  0  0  0  0  0  0  0  0   0  ...    0    0    0    0    0    0    0    0    0\n",
            "\n",
            "[10 rows x 96 columns]\n",
            "0     69\n",
            "1     84\n",
            "2     66\n",
            "3     75\n",
            "4     76\n",
            "5    130\n",
            "6     84\n",
            "7     71\n",
            "8     77\n",
            "9     76\n",
            "Name: category_id, dtype: int64\n"
          ],
          "name": "stdout"
        }
      ]
    },
    {
      "cell_type": "markdown",
      "metadata": {
        "id": "hptO4xDp31mP"
      },
      "source": [
        "Предсказание"
      ]
    },
    {
      "cell_type": "code",
      "metadata": {
        "id": "k7iw7WuI3076"
      },
      "source": [
        "yhat = model.predict(x)"
      ],
      "execution_count": 17,
      "outputs": []
    },
    {
      "cell_type": "code",
      "metadata": {
        "colab": {
          "base_uri": "https://localhost:8080/"
        },
        "id": "4DoieUy74RGE",
        "outputId": "41bfe497-1432-4c77-c552-3807c559eeba"
      },
      "source": [
        "y_pred = pd.DataFrame(yhat, columns=dummiesColumnsName)\n",
        "z_pred = pd.DataFrame(pd.get_dummies(y_pred).idxmax(1), columns=['category_id'])\n",
        "z_pred['category_id'] = z_pred['category_id'].astype('uint8')\n",
        "print(z_real.head(10))\n",
        "print(z_pred.head(10))\n",
        "\n",
        "print(z_real.tail(10))\n",
        "print(z_pred.tail(10))\n",
        "print(accuracy_score(z_pred, z_real))"
      ],
      "execution_count": 21,
      "outputs": [
        {
          "output_type": "stream",
          "text": [
            "0     69\n",
            "1     84\n",
            "2     66\n",
            "3     75\n",
            "4     76\n",
            "5    130\n",
            "6     84\n",
            "7     71\n",
            "8     77\n",
            "9     76\n",
            "Name: category_id, dtype: int64\n",
            "   category_id\n",
            "0           69\n",
            "1           84\n",
            "2           66\n",
            "3           75\n",
            "4           76\n",
            "5          130\n",
            "6            0\n",
            "7           71\n",
            "8           77\n",
            "9           76\n",
            "990     78\n",
            "991     78\n",
            "992     72\n",
            "993     83\n",
            "994     78\n",
            "995     73\n",
            "996    203\n",
            "997    203\n",
            "998     71\n",
            "999     84\n",
            "Name: category_id, dtype: int64\n",
            "     category_id\n",
            "990           78\n",
            "991           78\n",
            "992           72\n",
            "993           83\n",
            "994           78\n",
            "995            0\n",
            "996          203\n",
            "997          203\n",
            "998           71\n",
            "999           84\n",
            "0.937\n"
          ],
          "name": "stdout"
        }
      ]
    },
    {
      "cell_type": "code",
      "metadata": {
        "colab": {
          "base_uri": "https://localhost:8080/"
        },
        "id": "RciM1YjWUrRS",
        "outputId": "573feeeb-082b-47a9-918f-71311ad1aa11"
      },
      "source": [
        "print(accuracy_score(z_pred, z_real))"
      ],
      "execution_count": 22,
      "outputs": [
        {
          "output_type": "stream",
          "text": [
            "0.937\n"
          ],
          "name": "stdout"
        }
      ]
    }
  ]
}
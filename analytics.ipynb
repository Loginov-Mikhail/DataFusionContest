{
  "nbformat": 4,
  "nbformat_minor": 0,
  "metadata": {
    "colab": {
      "name": "analytics.ipynb",
      "provenance": [],
      "collapsed_sections": [],
      "authorship_tag": "ABX9TyPZUhkHiNwlPQ0Yp5wsRNVp"
    },
    "kernelspec": {
      "name": "python3",
      "display_name": "Python 3"
    }
  },
  "cells": [
    {
      "cell_type": "code",
      "metadata": {
        "id": "RmZSRrNz0zbT",
        "colab": {
          "base_uri": "https://localhost:8080/"
        },
        "outputId": "a244bae8-6bde-48da-e782-ddc3f92fbfbb"
      },
      "source": [
        "from google.colab import drive\n",
        "drive.mount('/content/gdrive')"
      ],
      "execution_count": null,
      "outputs": [
        {
          "output_type": "stream",
          "text": [
            "Mounted at /content/gdrive\n"
          ],
          "name": "stdout"
        }
      ]
    },
    {
      "cell_type": "code",
      "metadata": {
        "id": "YVyycRGMC58T"
      },
      "source": [
        "#import zipfile\n",
        "import pandas as pd\n",
        "import pyarrow.parquet as pq\n",
        "#import matplotlib.pyplot as plt\n",
        "#import numpy as np\n",
        "\n",
        "WORK_PATH = '/content/gdrive/MyDrive/DataFusionContest/'"
      ],
      "execution_count": null,
      "outputs": []
    },
    {
      "cell_type": "code",
      "metadata": {
        "colab": {
          "base_uri": "https://localhost:8080/"
        },
        "id": "btrXYMJmh95i",
        "outputId": "82ec27a9-65c6-4852-9189-f31ce8801bd4"
      },
      "source": [
        "!python -m pip install python-snappy"
      ],
      "execution_count": null,
      "outputs": [
        {
          "output_type": "stream",
          "text": [
            "Collecting python-snappy\n",
            "\u001b[?25l  Downloading https://files.pythonhosted.org/packages/56/98/8a82850652402c2de30875629d3858f4d15e513d860a3005513519cf0ff9/python_snappy-0.6.0-cp36-cp36m-manylinux1_x86_64.whl (54kB)\n",
            "\r\u001b[K     |██████                          | 10kB 13.9MB/s eta 0:00:01\r\u001b[K     |████████████                    | 20kB 18.6MB/s eta 0:00:01\r\u001b[K     |██████████████████▏             | 30kB 8.8MB/s eta 0:00:01\r\u001b[K     |████████████████████████▏       | 40kB 8.5MB/s eta 0:00:01\r\u001b[K     |██████████████████████████████▎ | 51kB 7.8MB/s eta 0:00:01\r\u001b[K     |████████████████████████████████| 61kB 4.1MB/s \n",
            "\u001b[?25hInstalling collected packages: python-snappy\n",
            "Successfully installed python-snappy-0.6.0\n"
          ],
          "name": "stdout"
        }
      ]
    },
    {
      "cell_type": "code",
      "metadata": {
        "colab": {
          "base_uri": "https://localhost:8080/"
        },
        "id": "CkOXs6PSgI6v",
        "outputId": "04cce780-f4a2-4383-b6e7-84eb49e94bb7"
      },
      "source": [
        "!python -m pip install fastparquet"
      ],
      "execution_count": null,
      "outputs": [
        {
          "output_type": "stream",
          "text": [
            "Collecting fastparquet\n",
            "\u001b[?25l  Downloading https://files.pythonhosted.org/packages/c2/3e/970dcb3605c1d406be9304f00895bf89ca6b71162afa7f95c5a4032bf927/fastparquet-0.5.0.tar.gz (120kB)\n",
            "\u001b[K     |████████████████████████████████| 122kB 8.9MB/s \n",
            "\u001b[?25hRequirement already satisfied: pandas>=1.1.0 in /usr/local/lib/python3.6/dist-packages (from fastparquet) (1.1.5)\n",
            "Requirement already satisfied: numba>=0.49 in /usr/local/lib/python3.6/dist-packages (from fastparquet) (0.51.2)\n",
            "Requirement already satisfied: numpy>=1.11 in /usr/local/lib/python3.6/dist-packages (from fastparquet) (1.19.5)\n",
            "Collecting thrift>=0.11.0\n",
            "\u001b[?25l  Downloading https://files.pythonhosted.org/packages/97/1e/3284d19d7be99305eda145b8aa46b0c33244e4a496ec66440dac19f8274d/thrift-0.13.0.tar.gz (59kB)\n",
            "\u001b[K     |████████████████████████████████| 61kB 5.0MB/s \n",
            "\u001b[?25hRequirement already satisfied: pytz>=2017.2 in /usr/local/lib/python3.6/dist-packages (from pandas>=1.1.0->fastparquet) (2018.9)\n",
            "Requirement already satisfied: python-dateutil>=2.7.3 in /usr/local/lib/python3.6/dist-packages (from pandas>=1.1.0->fastparquet) (2.8.1)\n",
            "Requirement already satisfied: llvmlite<0.35,>=0.34.0.dev0 in /usr/local/lib/python3.6/dist-packages (from numba>=0.49->fastparquet) (0.34.0)\n",
            "Requirement already satisfied: setuptools in /usr/local/lib/python3.6/dist-packages (from numba>=0.49->fastparquet) (53.0.0)\n",
            "Requirement already satisfied: six>=1.7.2 in /usr/local/lib/python3.6/dist-packages (from thrift>=0.11.0->fastparquet) (1.15.0)\n",
            "Building wheels for collected packages: fastparquet, thrift\n",
            "  Building wheel for fastparquet (setup.py) ... \u001b[?25l\u001b[?25hdone\n",
            "  Created wheel for fastparquet: filename=fastparquet-0.5.0-cp36-cp36m-linux_x86_64.whl size=211214 sha256=3e2de04f269f9e82ff2a0b0a4e2ef7d866d6ecd4dc7dd65bf46dd4811e7168b9\n",
            "  Stored in directory: /root/.cache/pip/wheels/97/0e/da/e2122965947ab2bfbc20e31a968e998fc8932f7fcb0ed78ad0\n",
            "  Building wheel for thrift (setup.py) ... \u001b[?25l\u001b[?25hdone\n",
            "  Created wheel for thrift: filename=thrift-0.13.0-cp36-cp36m-linux_x86_64.whl size=345212 sha256=32e6409af4c8c6fc6e02f127a31163844599f29f5e43108029d5b99749bd8988\n",
            "  Stored in directory: /root/.cache/pip/wheels/02/a2/46/689ccfcf40155c23edc7cdbd9de488611c8fdf49ff34b1706e\n",
            "Successfully built fastparquet thrift\n",
            "Installing collected packages: thrift, fastparquet\n",
            "Successfully installed fastparquet-0.5.0 thrift-0.13.0\n"
          ],
          "name": "stdout"
        }
      ]
    },
    {
      "cell_type": "code",
      "metadata": {
        "colab": {
          "base_uri": "https://localhost:8080/"
        },
        "id": "N8fmXmPrezMB",
        "outputId": "1cd5f9f6-6186-4f0f-e708-788e922385be"
      },
      "source": [
        "from fastparquet import ParquetFile\r\n",
        "import numpy as np\r\n",
        "\r\n",
        "pf = ParquetFile(WORK_PATH + 'train.parquet')\r\n",
        "# Для чтения частями:\r\n",
        "#for df in pf.iter_row_groups():\r\n",
        "#    print(df.shape)\r\n",
        "# Чтение файла целиком:\r\n",
        "filter=[('category_id', '!=', -1)]\r\n",
        "df = pf.to_pandas(columns=['item_name', 'category_id'], filters=filter)\r\n",
        "print(df.shape)"
      ],
      "execution_count": null,
      "outputs": [
        {
          "output_type": "stream",
          "text": [
            "(26094077, 2)\n"
          ],
          "name": "stdout"
        }
      ]
    },
    {
      "cell_type": "code",
      "metadata": {
        "colab": {
          "base_uri": "https://localhost:8080/"
        },
        "id": "V923Rup-i9W-",
        "outputId": "e0706525-06c2-4f67-8316-c495acd4f8b2"
      },
      "source": [
        "df.info()"
      ],
      "execution_count": null,
      "outputs": [
        {
          "output_type": "stream",
          "text": [
            "<class 'pandas.core.frame.DataFrame'>\n",
            "Int64Index: 26094077 entries, 0 to 45729315\n",
            "Data columns (total 2 columns):\n",
            " #   Column       Dtype \n",
            "---  ------       ----- \n",
            " 0   item_name    object\n",
            " 1   category_id  int64 \n",
            "dtypes: int64(1), object(1)\n",
            "memory usage: 597.2+ MB\n"
          ],
          "name": "stdout"
        }
      ]
    },
    {
      "cell_type": "code",
      "metadata": {
        "colab": {
          "base_uri": "https://localhost:8080/"
        },
        "id": "MfyqCyCPjHQh",
        "outputId": "5cfe48a0-5cab-4932-febc-255e87988cab"
      },
      "source": [
        "print(df['item_name'].head(10))"
      ],
      "execution_count": null,
      "outputs": [
        {
          "output_type": "stream",
          "text": [
            "0                      Флуконазол капс 150мг №1 Вертекс\n",
            "1                                        Молоко 3,2%,шт\n",
            "2      Борщ Станичный с тушенкой, 103 ккал (завод, з/у)\n",
            "3                             Компот из изюма, 114 ккал\n",
            "4     Макаронные изделия отварные (масло сливочное),...\n",
            "6                  Филе Горизонт (филе птицы), 218 ккал\n",
            "10                         3  Бумага Упак 1/Прочи/В асс\n",
            "11                         4  Бумага Упак 1/Прочи/В асс\n",
            "12                          Брюки спорт мал SAMO M-1016\n",
            "13                                    Бюстгальтер БН137\n",
            "Name: item_name, dtype: object\n"
          ],
          "name": "stdout"
        }
      ]
    },
    {
      "cell_type": "code",
      "metadata": {
        "colab": {
          "base_uri": "https://localhost:8080/"
        },
        "id": "6rh1xN-KDDsj",
        "outputId": "a7963ed5-c587-4cc4-cc0b-f53f97757f2a"
      },
      "source": [
        "df = pd.read_parquet(WORK_PATH + 'train.parquet', columns=['item_name', 'category_id']) #, filters=[('category_id', '=', val)])\n",
        "#df = pd.read_parquet(WORK_PATH + 'train.parquet', engine='pyarrow') #, chunksize=1000)\n",
        "#dq = pq.ParquetFile(WORK_PATH + 'train.parquet')\n",
        "#print(dq.metadata)\n",
        "#print(dq.schema)\n",
        "df.info()\n",
        "#dq1 = pq.read_table(WORK_PATH + 'train.parquet', columns=['receipt_id ', 'item_name', 'category_id'])"
      ],
      "execution_count": null,
      "outputs": [
        {
          "output_type": "stream",
          "text": [
            "<class 'pandas.core.frame.DataFrame'>\n",
            "Int64Index: 26094077 entries, 0 to 45729315\n",
            "Data columns (total 2 columns):\n",
            " #   Column       Dtype \n",
            "---  ------       ----- \n",
            " 0   item_name    object\n",
            " 1   category_id  int64 \n",
            "dtypes: int64(1), object(1)\n",
            "memory usage: 597.2+ MB\n"
          ],
          "name": "stdout"
        }
      ]
    },
    {
      "cell_type": "code",
      "metadata": {
        "colab": {
          "base_uri": "https://localhost:8080/"
        },
        "id": "C3d8H9c3HHPN",
        "outputId": "f0894d6e-257b-4631-fef5-b809658bec10"
      },
      "source": [
        "print(df['category_id'].min())\n",
        "print(df['category_id'].max())"
      ],
      "execution_count": null,
      "outputs": [
        {
          "output_type": "stream",
          "text": [
            "-1\n",
            "204\n"
          ],
          "name": "stdout"
        }
      ]
    },
    {
      "cell_type": "code",
      "metadata": {
        "colab": {
          "base_uri": "https://localhost:8080/"
        },
        "id": "ps1RkcX4HYua",
        "outputId": "c56d2fbf-3cda-47ed-efa3-5fb9525224df"
      },
      "source": [
        "print(df.head(10))"
      ],
      "execution_count": null,
      "outputs": [
        {
          "output_type": "stream",
          "text": [
            "                                            item_name  category_id\n",
            "0                    Флуконазол капс 150мг №1 Вертекс           -1\n",
            "1                                      Молоко 3,2%,шт           78\n",
            "2    Борщ Станичный с тушенкой, 103 ккал (завод, з/у)           -1\n",
            "3                           Компот из изюма, 114 ккал           71\n",
            "4   Макаронные изделия отварные (масло сливочное),...           71\n",
            "6                Филе Горизонт (филе птицы), 218 ккал           -1\n",
            "10                       3  Бумага Упак 1/Прочи/В асс           -1\n",
            "11                       4  Бумага Упак 1/Прочи/В асс           -1\n",
            "12                        Брюки спорт мал SAMO M-1016           -1\n",
            "13                                  Бюстгальтер БН137           -1\n"
          ],
          "name": "stdout"
        }
      ]
    },
    {
      "cell_type": "code",
      "metadata": {
        "colab": {
          "base_uri": "https://localhost:8080/"
        },
        "id": "Z4Nii96nZpCn",
        "outputId": "20ee48b8-bf4f-4f7b-e5cf-50203f961379"
      },
      "source": [
        "df2 = df.query('category_id >= 0')\r\n",
        "print(df2.head(10))"
      ],
      "execution_count": null,
      "outputs": [
        {
          "output_type": "stream",
          "text": [
            "                                            item_name  category_id\n",
            "1                                      Молоко 3,2%,шт           78\n",
            "3                           Компот из изюма, 114 ккал           71\n",
            "4   Макаронные изделия отварные (масло сливочное),...           71\n",
            "17                      Кофе Капучино Большой Эден 18           70\n",
            "40                             Хлеб на СЫВОРОТКЕ 350г           84\n",
            "53                     Сосиска в тесте с сыром 1шт ГЕ           84\n",
            "58     ЛанчБаскет 5 за 300: 2 шт ОРИГ Стрипсы кур фил           69\n",
            "62                                Станд Картофель фри           69\n",
            "63                                 Хот-дог Куриный СБ           69\n",
            "64                               Чизбургер с луком СБ           68\n"
          ],
          "name": "stdout"
        }
      ]
    },
    {
      "cell_type": "code",
      "metadata": {
        "colab": {
          "base_uri": "https://localhost:8080/"
        },
        "id": "yppVWLukaXD0",
        "outputId": "005ebca7-e4ab-4d23-85cf-889ed487a3bd"
      },
      "source": [
        "df2.info()"
      ],
      "execution_count": null,
      "outputs": [
        {
          "output_type": "stream",
          "text": [
            "<class 'pandas.core.frame.DataFrame'>\n",
            "Int64Index: 6483226 entries, 1 to 45729281\n",
            "Data columns (total 2 columns):\n",
            " #   Column       Dtype \n",
            "---  ------       ----- \n",
            " 0   item_name    object\n",
            " 1   category_id  int64 \n",
            "dtypes: int64(1), object(1)\n",
            "memory usage: 148.4+ MB\n"
          ],
          "name": "stdout"
        }
      ]
    },
    {
      "cell_type": "code",
      "metadata": {
        "colab": {
          "base_uri": "https://localhost:8080/",
          "height": 293
        },
        "id": "pwJOoDWXa2qF",
        "outputId": "9d210245-7b57-46b4-a774-2720202764c5"
      },
      "source": [
        "df2['category_id'].hist(bins=200)"
      ],
      "execution_count": null,
      "outputs": [
        {
          "output_type": "execute_result",
          "data": {
            "text/plain": [
              "<matplotlib.axes._subplots.AxesSubplot at 0x7f3e233883c8>"
            ]
          },
          "metadata": {
            "tags": []
          },
          "execution_count": 11
        },
        {
          "output_type": "display_data",
          "data": {
            "image/png": "[encoded data removed]",
            "text/plain": [
              "<Figure size 432x288 with 1 Axes>"
            ]
          },
          "metadata": {
            "tags": [],
            "needs_background": "light"
          }
        }
      ]
    },
    {
      "cell_type": "code",
      "metadata": {
        "colab": {
          "base_uri": "https://localhost:8080/"
        },
        "id": "6_Ooqt1QbL1Y",
        "outputId": "d06ef922-a91d-421a-a830-ac7f7a76649a"
      },
      "source": [
        "print(df2['category_id'].min())\r\n",
        "print(df2['category_id'].max())\r\n",
        "print(len(df2['category_id'].unique()))"
      ],
      "execution_count": null,
      "outputs": [
        {
          "output_type": "stream",
          "text": [
            "0\n",
            "204\n",
            "98\n"
          ],
          "name": "stdout"
        }
      ]
    },
    {
      "cell_type": "code",
      "metadata": {
        "colab": {
          "base_uri": "https://localhost:8080/"
        },
        "id": "jubDEJb7bsSZ",
        "outputId": "f04a149c-3f75-414d-a648-c03558681ee9"
      },
      "source": [
        "ptable = pd.pivot_table(df2, index=['category_id'], values='item_name', aggfunc='count')\r\n",
        "print(ptable)"
      ],
      "execution_count": null,
      "outputs": [
        {
          "output_type": "stream",
          "text": [
            "             item_name\n",
            "category_id           \n",
            "0                92280\n",
            "1                  226\n",
            "2                15502\n",
            "3                12159\n",
            "4                 3930\n",
            "...                ...\n",
            "164               1388\n",
            "167               2064\n",
            "177              11764\n",
            "203            1307260\n",
            "204             136271\n",
            "\n",
            "[98 rows x 1 columns]\n"
          ],
          "name": "stdout"
        }
      ]
    },
    {
      "cell_type": "code",
      "metadata": {
        "colab": {
          "base_uri": "https://localhost:8080/"
        },
        "id": "O4H3iWcrju21",
        "outputId": "baf0ea53-b0a8-4709-bf3b-273c3ba8f902"
      },
      "source": [
        "print(ptable['item_name'].median())\r\n",
        "m = int(ptable['item_name'].median())"
      ],
      "execution_count": null,
      "outputs": [
        {
          "output_type": "stream",
          "text": [
            "5576.0\n"
          ],
          "name": "stdout"
        }
      ]
    },
    {
      "cell_type": "code",
      "metadata": {
        "colab": {
          "base_uri": "https://localhost:8080/"
        },
        "id": "mLKWMLmwogCq",
        "outputId": "e3e53f7d-2f72-45ed-9ce8-5393101071a4"
      },
      "source": [
        "print(list(ptable['item_name']))\r\n",
        "print(list(ptable.index))"
      ],
      "execution_count": null,
      "outputs": [
        {
          "output_type": "stream",
          "text": [
            "[92280, 226, 15502, 12159, 3930, 1814, 17756, 2569, 1435, 4657, 801, 5774, 5378, 1149, 1470, 1787, 5298, 17168, 4194, 480, 7838, 4687, 126410, 507, 88427, 2871, 4804, 14362, 14597, 67, 16274, 9015, 26690, 6160, 1646, 456, 444, 690, 5933, 356, 1158, 39821, 6749, 16823, 21723, 30077, 186312, 94482, 422085, 24865, 88121, 101648, 69004, 80476, 193369, 503199, 126837, 670833, 93440, 45508, 322656, 902507, 67961, 1642, 41629, 2443, 109, 312, 626, 459, 3695, 741, 183, 2377, 406, 1988, 612, 4939, 1710, 55324, 15353, 10836, 1, 1914, 80566, 10960, 2565, 71907, 3252, 25, 64365, 3783, 2042, 1388, 2064, 11764, 1307260, 136271]\n",
            "[0, 1, 2, 3, 4, 6, 7, 9, 11, 12, 13, 19, 20, 24, 26, 27, 29, 30, 31, 35, 36, 37, 38, 39, 40, 41, 42, 43, 45, 46, 49, 50, 51, 52, 53, 54, 55, 56, 57, 58, 60, 61, 62, 66, 67, 68, 69, 70, 71, 72, 73, 74, 75, 76, 77, 78, 79, 80, 81, 82, 83, 84, 85, 90, 92, 96, 97, 100, 101, 102, 103, 105, 106, 107, 108, 109, 111, 114, 115, 117, 118, 120, 121, 128, 130, 133, 138, 139, 140, 143, 145, 150, 163, 164, 167, 177, 203, 204]\n"
          ],
          "name": "stdout"
        }
      ]
    },
    {
      "cell_type": "code",
      "metadata": {
        "id": "87twBDXauYTX"
      },
      "source": [
        "countItems = list(ptable['item_name'])\r\n",
        "idCategory = list(ptable.index)"
      ],
      "execution_count": null,
      "outputs": []
    },
    {
      "cell_type": "code",
      "metadata": {
        "colab": {
          "base_uri": "https://localhost:8080/"
        },
        "id": "BxbkA97-xOZu",
        "outputId": "6a1a0819-10d6-4f22-869b-28bd894170cf"
      },
      "source": [
        "dfResult = pd.DataFrame(columns=['item_name', 'category_id'])\r\n",
        "for i in range(len(countItems)):\r\n",
        "    newQuery = 'category_id == ' + str(idCategory[i])\r\n",
        "    dfTemp = df.query(newQuery)\r\n",
        "    if len(dfTemp) > m:\r\n",
        "        dfTemp = dfTemp.sample(frac=1)\r\n",
        "        dfTemp = dfTemp.head(m)\r\n",
        "    else:\r\n",
        "        while len(dfTemp) < m:\r\n",
        "            dfTemp = dfTemp.append(dfTemp)\r\n",
        "        dfTemp = dfTemp.head(m)\r\n",
        "        dfTemp = dfTemp.sample(frac=1)\r\n",
        "    print(newQuery)\r\n",
        "    dfResult = dfResult.append(dfTemp)\r\n",
        "    dfResult = dfResult.sample(frac=1)\r\n",
        "print(dfResult.shape)"
      ],
      "execution_count": null,
      "outputs": [
        {
          "output_type": "stream",
          "text": [
            "category_id == 0\n",
            "category_id == 1\n",
            "category_id == 2\n",
            "category_id == 3\n",
            "category_id == 4\n",
            "category_id == 6\n",
            "category_id == 7\n",
            "category_id == 9\n",
            "category_id == 11\n",
            "category_id == 12\n",
            "category_id == 13\n",
            "category_id == 19\n",
            "category_id == 20\n",
            "category_id == 24\n",
            "category_id == 26\n",
            "category_id == 27\n",
            "category_id == 29\n",
            "category_id == 30\n",
            "category_id == 31\n",
            "category_id == 35\n",
            "category_id == 36\n",
            "category_id == 37\n",
            "category_id == 38\n",
            "category_id == 39\n",
            "category_id == 40\n",
            "category_id == 41\n",
            "category_id == 42\n",
            "category_id == 43\n",
            "category_id == 45\n",
            "category_id == 46\n",
            "category_id == 49\n",
            "category_id == 50\n",
            "category_id == 51\n",
            "category_id == 52\n",
            "category_id == 53\n",
            "category_id == 54\n",
            "category_id == 55\n",
            "category_id == 56\n",
            "category_id == 57\n",
            "category_id == 58\n",
            "category_id == 60\n",
            "category_id == 61\n",
            "category_id == 62\n",
            "category_id == 66\n",
            "category_id == 67\n",
            "category_id == 68\n",
            "category_id == 69\n",
            "category_id == 70\n",
            "category_id == 71\n",
            "category_id == 72\n",
            "category_id == 73\n",
            "category_id == 74\n",
            "category_id == 75\n",
            "category_id == 76\n",
            "category_id == 77\n",
            "category_id == 78\n",
            "category_id == 79\n",
            "category_id == 80\n",
            "category_id == 81\n",
            "category_id == 82\n",
            "category_id == 83\n",
            "category_id == 84\n",
            "category_id == 85\n",
            "category_id == 90\n",
            "category_id == 92\n",
            "category_id == 96\n",
            "category_id == 97\n",
            "category_id == 100\n",
            "category_id == 101\n",
            "category_id == 102\n",
            "category_id == 103\n",
            "category_id == 105\n",
            "category_id == 106\n",
            "category_id == 107\n",
            "category_id == 108\n",
            "category_id == 109\n",
            "category_id == 111\n",
            "category_id == 114\n",
            "category_id == 115\n",
            "category_id == 117\n",
            "category_id == 118\n",
            "category_id == 120\n",
            "category_id == 121\n",
            "category_id == 128\n",
            "category_id == 130\n",
            "category_id == 133\n",
            "category_id == 138\n",
            "category_id == 139\n",
            "category_id == 140\n",
            "category_id == 143\n",
            "category_id == 145\n",
            "category_id == 150\n",
            "category_id == 163\n",
            "category_id == 164\n",
            "category_id == 167\n",
            "category_id == 177\n",
            "category_id == 203\n",
            "category_id == 204\n",
            "(546448, 2)\n"
          ],
          "name": "stdout"
        }
      ]
    },
    {
      "cell_type": "code",
      "metadata": {
        "colab": {
          "base_uri": "https://localhost:8080/"
        },
        "id": "ueFGR00Sd0Ki",
        "outputId": "dd79d165-4b5c-49ca-9a7f-cfedbc85a851"
      },
      "source": [
        "import numpy as np\r\n",
        "\r\n",
        "df2['category_id'] = df2['category_id'].astype(np.uint8)"
      ],
      "execution_count": null,
      "outputs": [
        {
          "output_type": "stream",
          "text": [
            "/usr/local/lib/python3.6/dist-packages/ipykernel_launcher.py:3: SettingWithCopyWarning: \n",
            "A value is trying to be set on a copy of a slice from a DataFrame.\n",
            "Try using .loc[row_indexer,col_indexer] = value instead\n",
            "\n",
            "See the caveats in the documentation: https://pandas.pydata.org/pandas-docs/stable/user_guide/indexing.html#returning-a-view-versus-a-copy\n",
            "  This is separate from the ipykernel package so we can avoid doing imports until\n"
          ],
          "name": "stderr"
        }
      ]
    },
    {
      "cell_type": "code",
      "metadata": {
        "id": "3bSILwRmdQii"
      },
      "source": [
        "dfResult.to_csv(WORK_PATH + 'clean.csv', index=False)"
      ],
      "execution_count": null,
      "outputs": []
    },
    {
      "cell_type": "code",
      "metadata": {
        "colab": {
          "base_uri": "https://localhost:8080/"
        },
        "id": "5TJ0wCyigapD",
        "outputId": "74719b5d-d2c1-434f-f0f6-e813a872a6f2"
      },
      "source": [
        "df3 = df[df.item_name.str.contains('Кофе', case=False)]\r\n",
        "print(df3.head(50))"
      ],
      "execution_count": null,
      "outputs": [
        {
          "output_type": "stream",
          "text": [
            "                                               item_name  category_id\n",
            "17                         Кофе Капучино Большой Эден 18           70\n",
            "94                Кофе Несткафе голд сигначер 95г стекло           -1\n",
            "166                               Кофе АМЕРИКАНО средний           70\n",
            "363                       95 Г КОФЕ РАСТ АМБАСС ПЛАТИНУМ           -1\n",
            "1061                                 ПЕЧ.К КОФЕ С ШОК ВК           84\n",
            "1134                              Раф кофе кокосовый, шт           -1\n",
            "1215                Кофе Грейт Бин Голд 100г стекло (12)           -1\n",
            "1231                                  0.3 Кофе Американо           70\n",
            "1681           Кофе растворимый Маккофе Original 3в1 20г           85\n",
            "1932                         250Г КОФЕ LAVAZZA ORO ЗЕРНО           -1\n",
            "2519    Кофе Жардин мяг упаковка 150гр. № 4 Гватемала шт           -1\n",
            "2935                      Кофе Латте Стандартный Эден 18           70\n",
            "3243              Печенье Кухмастер К кофе сахарное 220г           -1\n",
            "3619                       Кофе Гранд Экстра м/у   95 гр           -1\n",
            "3952                     Кофе Латте средний 300 мл Примо           -1\n",
            "4051                    * Ч.КАР.Кофе EXCL.BRAS.раст.150г           -1\n",
            "4986                          Кофе \"Американо\"* 1 Порция           -1\n",
            "5272                 Кофе Нескафе 3в1 мягкий 16г цепочка           -1\n",
            "5956                     200Г. КОФЕ ЗЕРН. AMB GOLD LABEL           -1\n",
            "6082                                   Кофе Латте 0,3 л.           -1\n",
            "6675                  Кофе  NESCAFE CLASSIK Стекло 47.5г           85\n",
            "6857                              Кофе Гранд-латте 400мл           70\n",
            "6888                 Кофе Арома Голд раств.в гран. 140г.           -1\n",
            "7137                            0,2 Нап. мол. Кофе Латте           70\n",
            "7256              Альфа-Токоферола Ацетат капс 200мг №20           -1\n",
            "7364                           Кофе МакКофе 3 в 1  20 гр           -1\n",
            "7497          Батончик БИОИННОВАЦИИ Кофе с шоколадом 25г           84\n",
            "7762                       Кофе Капучино Большой Эден 18           70\n",
            "7885    MACCOFFEE ORIGINAL КОФЕ РАСТВ 3 В 1 20 Г М/У ООО           -1\n",
            "8203        Кофе Нескафе Классик 3в1 цепочка м/у 16грх20           -1\n",
            "8287                        Кофе Якобс Монарх 47,5г ст/б           -1\n",
            "8586           Кофе растворимый Маккофе Original 3в1 20г           85\n",
            "8982            Кофе сливочный 300мл:Позже, Позже, Позже           -1\n",
            "9182   Кофе Жокей Фаворит раств. гранул. 75гр.1/12 (я...           85\n",
            "9576                  Кофе Черная карта Голд 150 гр. м/у           -1\n",
            "9648                         0,3 Нап. мол. Кофе Капучино           70\n",
            "9974   Кофе Жокей Фаворит раств. гранул. 75гр.1/12 (я...           85\n",
            "10312                            Кофе 3в1 (в пак.) 200 г           -1\n",
            "10577          Кофе растворимый Маккофе Original 3в1 20г           85\n",
            "11426                               КОФЕ PAULIG MOKKA МО           85\n",
            "11530              Кофе Нескафе 3в1 мягкий 16гр. пакетик           -1\n",
            "11824       Набор \"Взбодрись\" чашка кофейная 2-х цветная           -1\n",
            "11859   Кофе НЕСКАФЕ Голд Ориджинс Уганда-Кения ст/б 85г           -1\n",
            "11886   Кофе Якобс Монарх Милликано растворимый 250г пак           -1\n",
            "13089                                КОФЕВАРКА МЕД.0,39Л           -1\n",
            "13382                 Кофе JACOBS MONARCH м/у 240 г*6 шт           -1\n",
            "14148                       Кофе NESCAFE крепкий 3в1 16г           -1\n",
            "14317            Купон 3847: 0,3 Нап. мол. Кофе Капучино           70\n",
            "14404                                 0.2 Кофе Американо           70\n",
            "15142                      Кофе НЕСКАФЕ Классик м/у 130г           -1\n"
          ],
          "name": "stdout"
        }
      ]
    },
    {
      "cell_type": "code",
      "metadata": {
        "colab": {
          "base_uri": "https://localhost:8080/"
        },
        "id": "NusXFwnSH-PC",
        "outputId": "dfb5366b-6ff0-464d-f172-4d33597f88f1"
      },
      "source": [
        "print(df[df['category_id'] == -1].count())"
      ],
      "execution_count": null,
      "outputs": [
        {
          "output_type": "stream",
          "text": [
            "receipt_id     19610851\n",
            "item_name      19610851\n",
            "category_id    19610851\n",
            "dtype: int64\n"
          ],
          "name": "stdout"
        }
      ]
    },
    {
      "cell_type": "code",
      "metadata": {
        "colab": {
          "base_uri": "https://localhost:8080/"
        },
        "id": "0V6e0heNsn_S",
        "outputId": "ae03935c-1a58-4303-f083-7b5aeec2c72b"
      },
      "source": [
        "dfCoffee = df[df.item_name.str.contains('Кофе', case=False)].head(1000)\r\n",
        "dfCoffee.info()"
      ],
      "execution_count": null,
      "outputs": [
        {
          "output_type": "stream",
          "text": [
            "<class 'pandas.core.frame.DataFrame'>\n",
            "Int64Index: 1000 entries, 17 to 232802\n",
            "Data columns (total 2 columns):\n",
            " #   Column       Non-Null Count  Dtype \n",
            "---  ------       --------------  ----- \n",
            " 0   item_name    1000 non-null   object\n",
            " 1   category_id  1000 non-null   int64 \n",
            "dtypes: int64(1), object(1)\n",
            "memory usage: 23.4+ KB\n"
          ],
          "name": "stdout"
        }
      ]
    },
    {
      "cell_type": "code",
      "metadata": {
        "id": "dRZBJlc-tQ3x"
      },
      "source": [
        "dfCoffee.to_csv(WORK_PATH + 'coffee.csv', index=False)"
      ],
      "execution_count": null,
      "outputs": []
    }
  ]
}
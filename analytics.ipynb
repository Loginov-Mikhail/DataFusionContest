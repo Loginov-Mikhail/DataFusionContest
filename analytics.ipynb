{
  "nbformat": 4,
  "nbformat_minor": 0,
  "metadata": {
    "colab": {
      "name": "analytics.ipynb",
      "provenance": [],
      "authorship_tag": "ABX9TyP/bZlNIArqmAk+r3oz9C+k"
    },
    "kernelspec": {
      "name": "python3",
      "display_name": "Python 3"
    }
  },
  "cells": [
    {
      "cell_type": "code",
      "metadata": {
        "id": "RmZSRrNz0zbT",
        "colab": {
          "base_uri": "https://localhost:8080/"
        },
        "outputId": "d74f81ed-5695-40e0-f815-7619834e9391"
      },
      "source": [
        "from google.colab import drive\n",
        "drive.mount('/content/gdrive')"
      ],
      "execution_count": null,
      "outputs": [
        {
          "output_type": "stream",
          "text": [
            "Mounted at /content/gdrive\n"
          ],
          "name": "stdout"
        }
      ]
    },
    {
      "cell_type": "code",
      "metadata": {
        "id": "YVyycRGMC58T"
      },
      "source": [
        "#import zipfile\n",
        "import pandas as pd\n",
        "import pyarrow.parquet as pq\n",
        "#import matplotlib.pyplot as plt\n",
        "#import numpy as np\n",
        "\n",
        "WORK_PATH = '/content/gdrive/MyDrive/DataFusionContest/'"
      ],
      "execution_count": null,
      "outputs": []
    },
    {
      "cell_type": "code",
      "metadata": {
        "colab": {
          "base_uri": "https://localhost:8080/"
        },
        "id": "6rh1xN-KDDsj",
        "outputId": "a7963ed5-c587-4cc4-cc0b-f53f97757f2a"
      },
      "source": [
        "df = pd.read_parquet(WORK_PATH + 'train.parquet', columns=['item_name', 'category_id']) #, filters=[('category_id', '=', val)])\n",
        "#df = pd.read_parquet(WORK_PATH + 'train.parquet', engine='pyarrow') #, chunksize=1000)\n",
        "#dq = pq.ParquetFile(WORK_PATH + 'train.parquet')\n",
        "#print(dq.metadata)\n",
        "#print(dq.schema)\n",
        "df.info()\n",
        "#dq1 = pq.read_table(WORK_PATH + 'train.parquet', columns=['receipt_id ', 'item_name', 'category_id'])"
      ],
      "execution_count": null,
      "outputs": [
        {
          "output_type": "stream",
          "text": [
            "<class 'pandas.core.frame.DataFrame'>\n",
            "Int64Index: 26094077 entries, 0 to 45729315\n",
            "Data columns (total 2 columns):\n",
            " #   Column       Dtype \n",
            "---  ------       ----- \n",
            " 0   item_name    object\n",
            " 1   category_id  int64 \n",
            "dtypes: int64(1), object(1)\n",
            "memory usage: 597.2+ MB\n"
          ],
          "name": "stdout"
        }
      ]
    },
    {
      "cell_type": "code",
      "metadata": {
        "colab": {
          "base_uri": "https://localhost:8080/"
        },
        "id": "C3d8H9c3HHPN",
        "outputId": "a82bb41e-b1d2-4d38-cceb-f0339184798b"
      },
      "source": [
        "print(df['category_id'].min())\n",
        "print(df['category_id'].max())"
      ],
      "execution_count": null,
      "outputs": [
        {
          "output_type": "stream",
          "text": [
            "-1\n",
            "204\n"
          ],
          "name": "stdout"
        }
      ]
    },
    {
      "cell_type": "code",
      "metadata": {
        "colab": {
          "base_uri": "https://localhost:8080/"
        },
        "id": "ps1RkcX4HYua",
        "outputId": "d28b97ba-8250-4e13-b1bf-f927a8c0cc4e"
      },
      "source": [
        "print(df.head(10))"
      ],
      "execution_count": null,
      "outputs": [
        {
          "output_type": "stream",
          "text": [
            "                                            item_name  category_id\n",
            "0                    Флуконазол капс 150мг №1 Вертекс           -1\n",
            "1                                      Молоко 3,2%,шт           78\n",
            "2    Борщ Станичный с тушенкой, 103 ккал (завод, з/у)           -1\n",
            "3                           Компот из изюма, 114 ккал           71\n",
            "4   Макаронные изделия отварные (масло сливочное),...           71\n",
            "6                Филе Горизонт (филе птицы), 218 ккал           -1\n",
            "10                       3  Бумага Упак 1/Прочи/В асс           -1\n",
            "11                       4  Бумага Упак 1/Прочи/В асс           -1\n",
            "12                        Брюки спорт мал SAMO M-1016           -1\n",
            "13                                  Бюстгальтер БН137           -1\n"
          ],
          "name": "stdout"
        }
      ]
    },
    {
      "cell_type": "code",
      "metadata": {
        "colab": {
          "base_uri": "https://localhost:8080/"
        },
        "id": "Z4Nii96nZpCn",
        "outputId": "3d5b1539-498d-41c1-c0a3-72b402435890"
      },
      "source": [
        "df2 = df.query('category_id >= 0')\r\n",
        "print(df2.head(10))"
      ],
      "execution_count": null,
      "outputs": [
        {
          "output_type": "stream",
          "text": [
            "                                            item_name  category_id\n",
            "1                                      Молоко 3,2%,шт           78\n",
            "3                           Компот из изюма, 114 ккал           71\n",
            "4   Макаронные изделия отварные (масло сливочное),...           71\n",
            "17                      Кофе Капучино Большой Эден 18           70\n",
            "40                             Хлеб на СЫВОРОТКЕ 350г           84\n",
            "53                     Сосиска в тесте с сыром 1шт ГЕ           84\n",
            "58     ЛанчБаскет 5 за 300: 2 шт ОРИГ Стрипсы кур фил           69\n",
            "62                                Станд Картофель фри           69\n",
            "63                                 Хот-дог Куриный СБ           69\n",
            "64                               Чизбургер с луком СБ           68\n"
          ],
          "name": "stdout"
        }
      ]
    },
    {
      "cell_type": "code",
      "metadata": {
        "colab": {
          "base_uri": "https://localhost:8080/"
        },
        "id": "yppVWLukaXD0",
        "outputId": "005ebca7-e4ab-4d23-85cf-889ed487a3bd"
      },
      "source": [
        "df2.info()"
      ],
      "execution_count": null,
      "outputs": [
        {
          "output_type": "stream",
          "text": [
            "<class 'pandas.core.frame.DataFrame'>\n",
            "Int64Index: 6483226 entries, 1 to 45729281\n",
            "Data columns (total 2 columns):\n",
            " #   Column       Dtype \n",
            "---  ------       ----- \n",
            " 0   item_name    object\n",
            " 1   category_id  int64 \n",
            "dtypes: int64(1), object(1)\n",
            "memory usage: 148.4+ MB\n"
          ],
          "name": "stdout"
        }
      ]
    },
    {
      "cell_type": "code",
      "metadata": {
        "colab": {
          "base_uri": "https://localhost:8080/",
          "height": 293
        },
        "id": "pwJOoDWXa2qF",
        "outputId": "9d210245-7b57-46b4-a774-2720202764c5"
      },
      "source": [
        "df2['category_id'].hist(bins=200)"
      ],
      "execution_count": null,
      "outputs": [
        {
          "output_type": "execute_result",
          "data": {
            "text/plain": [
              "<matplotlib.axes._subplots.AxesSubplot at 0x7f3e233883c8>"
            ]
          },
          "metadata": {
            "tags": []
          },
          "execution_count": 11
        },
        {
          "output_type": "display_data",
          "data": {
            "image/png": "[encoded data removed]",
            "text/plain": [
              "<Figure size 432x288 with 1 Axes>"
            ]
          },
          "metadata": {
            "tags": [],
            "needs_background": "light"
          }
        }
      ]
    },
    {
      "cell_type": "code",
      "metadata": {
        "colab": {
          "base_uri": "https://localhost:8080/"
        },
        "id": "6_Ooqt1QbL1Y",
        "outputId": "641d2ce7-d9db-4c7e-9963-9371c66104b0"
      },
      "source": [
        "print(df2['category_id'].min())\r\n",
        "print(df2['category_id'].max())\r\n",
        "print(len(df2['category_id'].unique()))"
      ],
      "execution_count": null,
      "outputs": [
        {
          "output_type": "stream",
          "text": [
            "0\n",
            "204\n",
            "98\n"
          ],
          "name": "stdout"
        }
      ]
    },
    {
      "cell_type": "code",
      "metadata": {
        "colab": {
          "base_uri": "https://localhost:8080/"
        },
        "id": "jubDEJb7bsSZ",
        "outputId": "ab7204e1-b736-4c21-ade4-fb6acc45231b"
      },
      "source": [
        "ptable = pd.pivot_table(df2, index=['category_id'], values='item_name', aggfunc='count')\r\n",
        "print(ptable)"
      ],
      "execution_count": null,
      "outputs": [
        {
          "output_type": "stream",
          "text": [
            "             item_name\n",
            "category_id           \n",
            "0                92280\n",
            "1                  226\n",
            "2                15502\n",
            "3                12159\n",
            "4                 3930\n",
            "...                ...\n",
            "164               1388\n",
            "167               2064\n",
            "177              11764\n",
            "203            1307260\n",
            "204             136271\n",
            "\n",
            "[98 rows x 1 columns]\n"
          ],
          "name": "stdout"
        }
      ]
    },
    {
      "cell_type": "code",
      "metadata": {
        "colab": {
          "base_uri": "https://localhost:8080/"
        },
        "id": "ueFGR00Sd0Ki",
        "outputId": "dd79d165-4b5c-49ca-9a7f-cfedbc85a851"
      },
      "source": [
        "import numpy as np\r\n",
        "\r\n",
        "df2['category_id'] = df2['category_id'].astype(np.uint8)"
      ],
      "execution_count": null,
      "outputs": [
        {
          "output_type": "stream",
          "text": [
            "/usr/local/lib/python3.6/dist-packages/ipykernel_launcher.py:3: SettingWithCopyWarning: \n",
            "A value is trying to be set on a copy of a slice from a DataFrame.\n",
            "Try using .loc[row_indexer,col_indexer] = value instead\n",
            "\n",
            "See the caveats in the documentation: https://pandas.pydata.org/pandas-docs/stable/user_guide/indexing.html#returning-a-view-versus-a-copy\n",
            "  This is separate from the ipykernel package so we can avoid doing imports until\n"
          ],
          "name": "stderr"
        }
      ]
    },
    {
      "cell_type": "code",
      "metadata": {
        "id": "3bSILwRmdQii"
      },
      "source": [
        "df2.to_csv(WORK_PATH + 'clean.csv', index=False)"
      ],
      "execution_count": null,
      "outputs": []
    },
    {
      "cell_type": "code",
      "metadata": {
        "colab": {
          "base_uri": "https://localhost:8080/"
        },
        "id": "5TJ0wCyigapD",
        "outputId": "74719b5d-d2c1-434f-f0f6-e813a872a6f2"
      },
      "source": [
        "df3 = df[df.item_name.str.contains('Кофе', case=False)]\r\n",
        "print(df3.head(50))"
      ],
      "execution_count": null,
      "outputs": [
        {
          "output_type": "stream",
          "text": [
            "                                               item_name  category_id\n",
            "17                         Кофе Капучино Большой Эден 18           70\n",
            "94                Кофе Несткафе голд сигначер 95г стекло           -1\n",
            "166                               Кофе АМЕРИКАНО средний           70\n",
            "363                       95 Г КОФЕ РАСТ АМБАСС ПЛАТИНУМ           -1\n",
            "1061                                 ПЕЧ.К КОФЕ С ШОК ВК           84\n",
            "1134                              Раф кофе кокосовый, шт           -1\n",
            "1215                Кофе Грейт Бин Голд 100г стекло (12)           -1\n",
            "1231                                  0.3 Кофе Американо           70\n",
            "1681           Кофе растворимый Маккофе Original 3в1 20г           85\n",
            "1932                         250Г КОФЕ LAVAZZA ORO ЗЕРНО           -1\n",
            "2519    Кофе Жардин мяг упаковка 150гр. № 4 Гватемала шт           -1\n",
            "2935                      Кофе Латте Стандартный Эден 18           70\n",
            "3243              Печенье Кухмастер К кофе сахарное 220г           -1\n",
            "3619                       Кофе Гранд Экстра м/у   95 гр           -1\n",
            "3952                     Кофе Латте средний 300 мл Примо           -1\n",
            "4051                    * Ч.КАР.Кофе EXCL.BRAS.раст.150г           -1\n",
            "4986                          Кофе \"Американо\"* 1 Порция           -1\n",
            "5272                 Кофе Нескафе 3в1 мягкий 16г цепочка           -1\n",
            "5956                     200Г. КОФЕ ЗЕРН. AMB GOLD LABEL           -1\n",
            "6082                                   Кофе Латте 0,3 л.           -1\n",
            "6675                  Кофе  NESCAFE CLASSIK Стекло 47.5г           85\n",
            "6857                              Кофе Гранд-латте 400мл           70\n",
            "6888                 Кофе Арома Голд раств.в гран. 140г.           -1\n",
            "7137                            0,2 Нап. мол. Кофе Латте           70\n",
            "7256              Альфа-Токоферола Ацетат капс 200мг №20           -1\n",
            "7364                           Кофе МакКофе 3 в 1  20 гр           -1\n",
            "7497          Батончик БИОИННОВАЦИИ Кофе с шоколадом 25г           84\n",
            "7762                       Кофе Капучино Большой Эден 18           70\n",
            "7885    MACCOFFEE ORIGINAL КОФЕ РАСТВ 3 В 1 20 Г М/У ООО           -1\n",
            "8203        Кофе Нескафе Классик 3в1 цепочка м/у 16грх20           -1\n",
            "8287                        Кофе Якобс Монарх 47,5г ст/б           -1\n",
            "8586           Кофе растворимый Маккофе Original 3в1 20г           85\n",
            "8982            Кофе сливочный 300мл:Позже, Позже, Позже           -1\n",
            "9182   Кофе Жокей Фаворит раств. гранул. 75гр.1/12 (я...           85\n",
            "9576                  Кофе Черная карта Голд 150 гр. м/у           -1\n",
            "9648                         0,3 Нап. мол. Кофе Капучино           70\n",
            "9974   Кофе Жокей Фаворит раств. гранул. 75гр.1/12 (я...           85\n",
            "10312                            Кофе 3в1 (в пак.) 200 г           -1\n",
            "10577          Кофе растворимый Маккофе Original 3в1 20г           85\n",
            "11426                               КОФЕ PAULIG MOKKA МО           85\n",
            "11530              Кофе Нескафе 3в1 мягкий 16гр. пакетик           -1\n",
            "11824       Набор \"Взбодрись\" чашка кофейная 2-х цветная           -1\n",
            "11859   Кофе НЕСКАФЕ Голд Ориджинс Уганда-Кения ст/б 85г           -1\n",
            "11886   Кофе Якобс Монарх Милликано растворимый 250г пак           -1\n",
            "13089                                КОФЕВАРКА МЕД.0,39Л           -1\n",
            "13382                 Кофе JACOBS MONARCH м/у 240 г*6 шт           -1\n",
            "14148                       Кофе NESCAFE крепкий 3в1 16г           -1\n",
            "14317            Купон 3847: 0,3 Нап. мол. Кофе Капучино           70\n",
            "14404                                 0.2 Кофе Американо           70\n",
            "15142                      Кофе НЕСКАФЕ Классик м/у 130г           -1\n"
          ],
          "name": "stdout"
        }
      ]
    },
    {
      "cell_type": "code",
      "metadata": {
        "colab": {
          "base_uri": "https://localhost:8080/"
        },
        "id": "NusXFwnSH-PC",
        "outputId": "dfb5366b-6ff0-464d-f172-4d33597f88f1"
      },
      "source": [
        "print(df[df['category_id'] == -1].count())"
      ],
      "execution_count": null,
      "outputs": [
        {
          "output_type": "stream",
          "text": [
            "receipt_id     19610851\n",
            "item_name      19610851\n",
            "category_id    19610851\n",
            "dtype: int64\n"
          ],
          "name": "stdout"
        }
      ]
    },
    {
      "cell_type": "code",
      "metadata": {
        "colab": {
          "base_uri": "https://localhost:8080/"
        },
        "id": "0V6e0heNsn_S",
        "outputId": "ae03935c-1a58-4303-f083-7b5aeec2c72b"
      },
      "source": [
        "dfCoffee = df[df.item_name.str.contains('Кофе', case=False)].head(1000)\r\n",
        "dfCoffee.info()"
      ],
      "execution_count": null,
      "outputs": [
        {
          "output_type": "stream",
          "text": [
            "<class 'pandas.core.frame.DataFrame'>\n",
            "Int64Index: 1000 entries, 17 to 232802\n",
            "Data columns (total 2 columns):\n",
            " #   Column       Non-Null Count  Dtype \n",
            "---  ------       --------------  ----- \n",
            " 0   item_name    1000 non-null   object\n",
            " 1   category_id  1000 non-null   int64 \n",
            "dtypes: int64(1), object(1)\n",
            "memory usage: 23.4+ KB\n"
          ],
          "name": "stdout"
        }
      ]
    },
    {
      "cell_type": "code",
      "metadata": {
        "id": "dRZBJlc-tQ3x"
      },
      "source": [
        "dfCoffee.to_csv(WORK_PATH + 'coffee.csv', index=False)"
      ],
      "execution_count": null,
      "outputs": []
    }
  ]
}
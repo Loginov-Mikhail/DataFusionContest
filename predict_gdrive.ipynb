{
  "nbformat": 4,
  "nbformat_minor": 0,
  "metadata": {
    "colab": {
      "name": "predict_gdrive.ipynb",
      "provenance": [],
      "collapsed_sections": [],
      "authorship_tag": "ABX9TyNq8Jft/bfzHen5fKW9r1ff"
    },
    "kernelspec": {
      "name": "python3",
      "display_name": "Python 3"
    }
  },
  "cells": [
    {
      "cell_type": "code",
      "metadata": {
        "id": "RmZSRrNz0zbT",
        "colab": {
          "base_uri": "https://localhost:8080/"
        },
        "outputId": "0a45a27e-d4c9-4c28-84e4-e8271d014ed7"
      },
      "source": [
        "from google.colab import drive\n",
        "import os\n",
        "\n",
        "drive.mount('/content/gdrive')\n",
        "os.chdir('/content/gdrive/MyDrive/DataFusionContest/')"
      ],
      "execution_count": null,
      "outputs": [
        {
          "output_type": "stream",
          "text": [
            "Drive already mounted at /content/gdrive; to attempt to forcibly remount, call drive.mount(\"/content/gdrive\", force_remount=True).\n"
          ],
          "name": "stdout"
        }
      ]
    },
    {
      "cell_type": "code",
      "metadata": {
        "id": "kWTZObKaFt3y"
      },
      "source": [
        "# Все, что выше - удалить"
      ],
      "execution_count": null,
      "outputs": []
    },
    {
      "cell_type": "code",
      "metadata": {
        "id": "YVyycRGMC58T"
      },
      "source": [
        "import pandas as pd\n",
        "import numpy as np\n",
        "from tensorflow.keras.preprocessing.text import Tokenizer\n",
        "from tensorflow.keras.preprocessing.sequence import pad_sequences\n",
        "from sklearn.ensemble import RandomForestClassifier\n",
        "from sklearn.metrics import accuracy_score\n",
        "import io\n",
        "import json\n",
        "from tensorflow.keras.preprocessing.text import tokenizer_from_json\n",
        "import pickle\n",
        "\n",
        "SLICE = 1000000"
      ],
      "execution_count": null,
      "outputs": []
    },
    {
      "cell_type": "code",
      "metadata": {
        "id": "6rh1xN-KDDsj"
      },
      "source": [
        "# Чтение датасета\n",
        "df = pd.read_csv('clean.csv')\n",
        "df['item_name'] = df['item_name'].astype(str)\n",
        "df['item_name'] = df['item_name'].str.lower()"
      ],
      "execution_count": null,
      "outputs": []
    },
    {
      "cell_type": "code",
      "metadata": {
        "id": "D4jP6WbJ_cBQ"
      },
      "source": [
        "# Чтение названий колонок результата работы модели\n",
        "z = pd.read_csv('columns.csv')\n",
        "dummiesColumnsName = list(z.columns)"
      ],
      "execution_count": null,
      "outputs": []
    },
    {
      "cell_type": "code",
      "metadata": {
        "id": "8JfmVQMuBL5f"
      },
      "source": [
        "# Загрузка словаря токенайзера\n",
        "with open('tokenizer_item_name.json') as f:\n",
        "    data = json.load(f)\n",
        "    tokenizer_goods = tokenizer_from_json(data)"
      ],
      "execution_count": null,
      "outputs": []
    },
    {
      "cell_type": "code",
      "metadata": {
        "id": "-VhAj2aLB9JI"
      },
      "source": [
        "# Загрузка модели\n",
        "model = pickle.load(open('model_v1.sav', 'rb'))"
      ],
      "execution_count": null,
      "outputs": []
    },
    {
      "cell_type": "code",
      "metadata": {
        "id": "h2C5aq_IBaNo"
      },
      "source": [
        "# Обработка названий товаров по полученному словарю\n",
        "sequences_goods = tokenizer_goods.texts_to_sequences(df['item_name'])\n",
        "max_position_len = 10\n",
        "# Замена неожиданных значений None на 0\n",
        "for i in range(len(sequences_goods)):\n",
        "    sequences_goods[i] = [0 if v is None else v for v in sequences_goods[i]]\n",
        "\n",
        "x1 = pad_sequences(sequences_goods, maxlen=max_position_len)"
      ],
      "execution_count": null,
      "outputs": []
    },
    {
      "cell_type": "code",
      "metadata": {
        "id": "9jjarEgHmf4K"
      },
      "source": [
        "del sequences_goods"
      ],
      "execution_count": null,
      "outputs": []
    },
    {
      "cell_type": "code",
      "metadata": {
        "id": "q4gw8MWBF3c0"
      },
      "source": [
        "zFullPred = pd.DataFrame(columns=['category_id'])\n",
        "while len(x1) > SLICE:\n",
        "    x = x1[:SLICE]\n",
        "    y = model.predict(x)\n",
        "    yPred = pd.DataFrame(y, columns=dummiesColumnsName)\n",
        "    zPred = pd.DataFrame(pd.get_dummies(yPred).idxmax(1),\n",
        "                         columns=['category_id'])\n",
        "    zPred['category_id'] = zPred['category_id'].astype('uint8')\n",
        "    zFullPred = zFullPred.append(zPred)\n",
        "    x1 = x1[SLICE:]\n",
        "x = x1\n",
        "y = model.predict(x)\n",
        "yPred = pd.DataFrame(y, columns=dummiesColumnsName)\n",
        "zPred = pd.DataFrame(pd.get_dummies(yPred).idxmax(1), columns=['category_id'])\n",
        "zPred['category_id'] = zPred['category_id'].astype('uint8')\n",
        "zFullPred = zFullPred.append(zPred)\n",
        "\n",
        "zFullPred['category_id'] = zFullPred['category_id'].astype('uint8')\n",
        "zFullPred.to_csv('result.csv', index=False)"
      ],
      "execution_count": null,
      "outputs": []
    },
    {
      "cell_type": "code",
      "metadata": {
        "id": "Xkr9TnEIrfN4"
      },
      "source": [
        "# Удалить все, что после\r\n",
        "z_real = pd.DataFrame(df['category_id'].astype('uint8'), columns=['category_id'])"
      ],
      "execution_count": null,
      "outputs": []
    },
    {
      "cell_type": "code",
      "metadata": {
        "colab": {
          "base_uri": "https://localhost:8080/"
        },
        "id": "2se7QW9qvnni",
        "outputId": "02ae9645-795c-4559-ad00-164795856932"
      },
      "source": [
        "print(accuracy_score(zFullPred, z_real))"
      ],
      "execution_count": null,
      "outputs": [
        {
          "output_type": "stream",
          "text": [
            "0.9397841444984334\n"
          ],
          "name": "stdout"
        }
      ]
    }
  ]
}